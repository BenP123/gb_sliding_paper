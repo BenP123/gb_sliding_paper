{
 "cells": [
  {
   "cell_type": "code",
   "execution_count": 4,
   "metadata": {},
   "outputs": [],
   "source": [
    "### Cu 003 processing ###\n",
    "\n",
    "\n",
    "#%% load the packages\n",
    "import numpy as np\n",
    "import matplotlib.pyplot as plt\n",
    "from matplotlib.gridspec import GridSpec\n",
    "\n",
    "import defdap.hrdic as hrdic\n",
    "import defdap.ebsd as ebsd\n",
    "import defdap.experiment as experiment\n",
    "\n",
    "from pathlib import Path\n",
    "\n",
    "import copy \n",
    "import pandas as pd\n",
    "from datetime import datetime\n",
    "\n",
    "import os\n",
    "\n",
    "# get dictools stuff \n",
    "import sys\n",
    "sys.path.append(\"c:/work/hrdic-tools/\")\n",
    "import dictools\n",
    "\n",
    "plt.rcParams['svg.fonttype'] = 'none'\n",
    "\n",
    "%matplotlib qt"
   ]
  },
  {
   "cell_type": "code",
   "execution_count": 3,
   "metadata": {},
   "outputs": [],
   "source": [
    "gaugeLength = 12.0      # mm\n",
    "gaugeWidth = 1.5        # mm\n",
    "gaugeThickness = 1.1035 # mm\n",
    "\n",
    "rigdata = dictools.expDat('./ofhc_cu_5pc.csv',gaugeLength,gaugeWidth,gaugeThickness)"
   ]
  },
  {
   "cell_type": "code",
   "execution_count": 8,
   "metadata": {},
   "outputs": [],
   "source": [
    "# get steps with images from DIC file names \n",
    "dic_dir = './DIC'\n",
    "dic_file_list = os.listdir(dic_dir)\n",
    "dic_file_list.remove('images')"
   ]
  },
  {
   "cell_type": "code",
   "execution_count": 13,
   "metadata": {},
   "outputs": [],
   "source": [
    "im_steps = np.asarray([x[4:6] for x in dic_file_list],dtype=int)"
   ]
  },
  {
   "cell_type": "code",
   "execution_count": 15,
   "metadata": {},
   "outputs": [
    {
     "data": {
      "text/plain": [
       "[<matplotlib.lines.Line2D at 0x226ac1427b0>]"
      ]
     },
     "execution_count": 15,
     "metadata": {},
     "output_type": "execute_result"
    }
   ],
   "source": []
  },
  {
   "cell_type": "code",
   "execution_count": null,
   "metadata": {},
   "outputs": [],
   "source": []
  }
 ],
 "metadata": {
  "kernelspec": {
   "display_name": "openPIVbatch",
   "language": "python",
   "name": "python3"
  },
  "language_info": {
   "codemirror_mode": {
    "name": "ipython",
    "version": 3
   },
   "file_extension": ".py",
   "mimetype": "text/x-python",
   "name": "python",
   "nbconvert_exporter": "python",
   "pygments_lexer": "ipython3",
   "version": "3.12.0"
  }
 },
 "nbformat": 4,
 "nbformat_minor": 2
}
