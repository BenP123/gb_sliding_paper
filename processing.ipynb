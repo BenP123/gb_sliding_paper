{
 "cells": [
  {
   "cell_type": "code",
   "execution_count": 1,
   "metadata": {},
   "outputs": [
    {
     "name": "stderr",
     "output_type": "stream",
     "text": [
      "\u001b[2000D\u001b[KLoading ITKPyBase... \u001b[2000D\u001b[KLoading ITKPyBase... \u001b[2000D\u001b[K\u001b[2000D\u001b[KLoading ITKCommon... \u001b[2000D\u001b[KLoading ITKCommon... \u001b[2000D\u001b[K\u001b[2000D\u001b[KLoading ITKStatistics... \u001b[2000D\u001b[KLoading ITKStatistics... \u001b[2000D\u001b[K\u001b[2000D\u001b[KLoading ITKImageFilterBase... \u001b[2000D\u001b[KLoading ITKImageFilterBase... \u001b[2000D\u001b[K\u001b[2000D\u001b[KLoading ITKTransform... \u001b[2000D\u001b[KLoading ITKTransform... \u001b[2000D\u001b[K\u001b[2000D\u001b[KLoading ITKImageFrequency... \u001b[2000D\u001b[KLoading ITKImageFrequency... \u001b[2000D\u001b[K\u001b[2000D\u001b[KLoading ITKIOImageBase... \u001b[2000D\u001b[KLoading ITKIOBMP... \u001b[2000D\u001b[KLoading ITKIOBMP... \u001b[2000D\u001b[K\u001b[2000D\u001b[KLoading ITKIOBioRad... \u001b[2000D\u001b[KLoading ITKIOBioRad... \u001b[2000D\u001b[K\u001b[2000D\u001b[KLoading ITKIOBruker... \u001b[2000D\u001b[KLoading ITKIOBruker... \u001b[2000D\u001b[K\u001b[2000D\u001b[KLoading ITKIOGDCM... \u001b[2000D\u001b[KLoading ITKIOGDCM... \u001b[2000D\u001b[K\u001b[2000D\u001b[KLoading ITKIOIPL... \u001b[2000D\u001b[KLoading ITKIOIPL... \u001b[2000D\u001b[K\u001b[2000D\u001b[KLoading ITKIOGE... \u001b[2000D\u001b[KLoading ITKIOGE... \u001b[2000D\u001b[K\u001b[2000D\u001b[KLoading ITKIOGIPL... \u001b[2000D\u001b[KLoading ITKIOGIPL... \u001b[2000D\u001b[K\u001b[2000D\u001b[KLoading ITKIOHDF5... \u001b[2000D\u001b[KLoading ITKIOHDF5... \u001b[2000D\u001b[K\u001b[2000D\u001b[KLoading ITKIOJPEG... \u001b[2000D\u001b[KLoading ITKIOJPEG... \u001b[2000D\u001b[K\u001b[2000D\u001b[KLoading ITKIOJPEG2000... \u001b[2000D\u001b[KLoading ITKIOJPEG2000... \u001b[2000D\u001b[K\u001b[2000D\u001b[KLoading ITKIOTIFF... \u001b[2000D\u001b[KLoading ITKIOTIFF... \u001b[2000D\u001b[K\u001b[2000D\u001b[KLoading ITKIOLSM... \u001b[2000D\u001b[KLoading ITKIOLSM... \u001b[2000D\u001b[K\u001b[2000D\u001b[KLoading ITKIOMINC... \u001b[2000D\u001b[KLoading ITKIOMINC... \u001b[2000D\u001b[K\u001b[2000D\u001b[KLoading ITKIOMRC... \u001b[2000D\u001b[KLoading ITKIOMRC... \u001b[2000D\u001b[K\u001b[2000D\u001b[KLoading ITKIOMeta... \u001b[2000D\u001b[KLoading ITKIOMeta... \u001b[2000D\u001b[K\u001b[2000D\u001b[KLoading ITKIONIFTI... \u001b[2000D\u001b[KLoading ITKIONIFTI... \u001b[2000D\u001b[K\u001b[2000D\u001b[KLoading ITKIONRRD... \u001b[2000D\u001b[KLoading ITKIONRRD... \u001b[2000D\u001b[K\u001b[2000D\u001b[KLoading ITKIOPNG... \u001b[2000D\u001b[KLoading ITKIOPNG... \u001b[2000D\u001b[K\u001b[2000D\u001b[KLoading ITKIOStimulate... \u001b[2000D\u001b[KLoading ITKIOStimulate... \u001b[2000D\u001b[K\u001b[2000D\u001b[KLoading ITKIOVTK... \u001b[2000D\u001b[KLoading ITKIOVTK... \u001b[2000D\u001b[K\u001b[2000D\u001b[KLoading ITKIOImageBase... \u001b[2000D\u001b[K\u001b[2000D\u001b[KLoading ITKImageFunction... \u001b[2000D\u001b[KLoading ITKImageFunction... \u001b[2000D\u001b[K\u001b[2000D\u001b[KLoading ITKImageGrid... \u001b[2000D\u001b[KLoading ITKImageGrid... \u001b[2000D\u001b[K\u001b[2000D\u001b[KLoading ITKFFT... \u001b[2000D\u001b[KLoading ITKFFT... \u001b[2000D\u001b[K\u001b[2000D\u001b[KLoading Montage... \u001b[2000D\u001b[KLoading Montage... \u001b[2000D\u001b[K"
     ]
    },
    {
     "name": "stdout",
     "output_type": "stream",
     "text": [
      "<itkTemplate itk::TileConfiguration>\n",
      "Options:\n",
      "  [2,]\n",
      "  [3,]\n",
      "  [4,]\n"
     ]
    }
   ],
   "source": [
    "### Cu 003 processing ###\n",
    "\n",
    "\n",
    "#%% load the packages\n",
    "import numpy as np\n",
    "import matplotlib.pyplot as plt\n",
    "from matplotlib.gridspec import GridSpec\n",
    "\n",
    "import defdap.hrdic as hrdic\n",
    "import defdap.ebsd as ebsd\n",
    "import defdap.experiment as experiment\n",
    "\n",
    "from pathlib import Path\n",
    "\n",
    "import copy \n",
    "import pandas as pd\n",
    "from datetime import datetime\n",
    "\n",
    "import os\n",
    "\n",
    "# get dictools stuff \n",
    "import sys\n",
    "sys.path.append(\"c:/work/hrdic-tools/\")\n",
    "import dictools\n",
    "\n",
    "plt.rcParams['svg.fonttype'] = 'none'\n",
    "\n",
    "%matplotlib qt"
   ]
  },
  {
   "cell_type": "code",
   "execution_count": 2,
   "metadata": {},
   "outputs": [],
   "source": [
    "gaugeLength = 12.0      # mm\n",
    "gaugeWidth = 1.5        # mm\n",
    "gaugeThickness = 1.1035 # mm\n",
    "rig_data_file = './ofhc_cu_5pc.csv'\n",
    "\n",
    "imaging_wait_time = 300 # s\n",
    "\n",
    "gauge_csa = gaugeWidth*gaugeThickness*1e-6 # m^2\n",
    "\n",
    "# rigdata = dictools.expDat(rig_data_file,gaugeLength,gaugeWidth,gaugeThickness)"
   ]
  },
  {
   "cell_type": "code",
   "execution_count": 84,
   "metadata": {},
   "outputs": [
    {
     "name": "stdout",
     "output_type": "stream",
     "text": [
      "Loaded OpenPIV n/a data (dimensions: 1999 x 1999 pixels, sub-window size: 16 x 16 pixels)\n",
      "Loaded OpenPIV n/a data (dimensions: 1999 x 1999 pixels, sub-window size: 16 x 16 pixels)\n",
      "Loaded OpenPIV n/a data (dimensions: 1999 x 1999 pixels, sub-window size: 16 x 16 pixels)\n",
      "Loaded OpenPIV n/a data (dimensions: 1999 x 1999 pixels, sub-window size: 16 x 16 pixels)\n",
      "Loaded OpenPIV n/a data (dimensions: 1999 x 1999 pixels, sub-window size: 16 x 16 pixels)\n",
      "Loaded OpenPIV n/a data (dimensions: 1999 x 1999 pixels, sub-window size: 16 x 16 pixels)\n",
      "Loaded OpenPIV n/a data (dimensions: 1999 x 1999 pixels, sub-window size: 16 x 16 pixels)\n",
      "Loaded OpenPIV n/a data (dimensions: 1999 x 1999 pixels, sub-window size: 16 x 16 pixels)\n",
      "Loaded OpenPIV n/a data (dimensions: 1999 x 1999 pixels, sub-window size: 16 x 16 pixels)\n",
      "Loaded OpenPIV n/a data (dimensions: 1999 x 1999 pixels, sub-window size: 16 x 16 pixels)\n",
      "Loaded OpenPIV n/a data (dimensions: 1999 x 1999 pixels, sub-window size: 16 x 16 pixels)\n",
      "Loaded OpenPIV n/a data (dimensions: 1999 x 1999 pixels, sub-window size: 16 x 16 pixels)\n",
      "Loaded OpenPIV n/a data (dimensions: 1999 x 1999 pixels, sub-window size: 16 x 16 pixels)\n",
      "Loaded OpenPIV n/a data (dimensions: 1999 x 1999 pixels, sub-window size: 16 x 16 pixels)\n",
      "Loaded OpenPIV n/a data (dimensions: 1999 x 1999 pixels, sub-window size: 16 x 16 pixels)\n",
      "Loaded OpenPIV n/a data (dimensions: 1999 x 1999 pixels, sub-window size: 16 x 16 pixels)\n",
      "Loaded OpenPIV n/a data (dimensions: 1999 x 1999 pixels, sub-window size: 16 x 16 pixels)\n",
      "Loaded OpenPIV n/a data (dimensions: 1999 x 1999 pixels, sub-window size: 16 x 16 pixels)\n",
      "Loaded OpenPIV n/a data (dimensions: 1999 x 1999 pixels, sub-window size: 16 x 16 pixels)\n",
      "Loaded OpenPIV n/a data (dimensions: 1999 x 1999 pixels, sub-window size: 16 x 16 pixels)\n",
      "Loaded OpenPIV n/a data (dimensions: 1999 x 1999 pixels, sub-window size: 16 x 16 pixels)\n",
      "Loaded OpenPIV n/a data (dimensions: 1999 x 1999 pixels, sub-window size: 16 x 16 pixels)\n",
      "Loaded OpenPIV n/a data (dimensions: 1999 x 1999 pixels, sub-window size: 16 x 16 pixels)\n",
      "Loaded OpenPIV n/a data (dimensions: 1999 x 1999 pixels, sub-window size: 16 x 16 pixels)\n",
      "Loaded OpenPIV n/a data (dimensions: 1999 x 1999 pixels, sub-window size: 16 x 16 pixels)\n",
      "Loaded OpenPIV n/a data (dimensions: 1999 x 1999 pixels, sub-window size: 16 x 16 pixels)\n",
      "Loaded OpenPIV n/a data (dimensions: 1999 x 1999 pixels, sub-window size: 16 x 16 pixels)\n",
      "Loaded OpenPIV n/a data (dimensions: 1999 x 1999 pixels, sub-window size: 16 x 16 pixels)\n",
      "Loaded OpenPIV n/a data (dimensions: 1999 x 1999 pixels, sub-window size: 16 x 16 pixels)\n",
      "Loaded OpenPIV n/a data (dimensions: 1999 x 1999 pixels, sub-window size: 16 x 16 pixels)\n",
      "Loaded OpenPIV n/a data (dimensions: 1999 x 1999 pixels, sub-window size: 16 x 16 pixels)\n",
      "Loaded OpenPIV n/a data (dimensions: 1999 x 1999 pixels, sub-window size: 16 x 16 pixels)\n",
      "<defdap.hrdic.Map object at 0x000001C86A4C21E0>\n",
      "<defdap.hrdic.Map object at 0x000001C865EDA150>\n",
      "<defdap.hrdic.Map object at 0x000001C8624693A0>\n",
      "<defdap.hrdic.Map object at 0x000001C85DC30770>\n",
      "<defdap.hrdic.Map object at 0x000001C865ED9910>\n",
      "<defdap.hrdic.Map object at 0x000001C85DC0B800>\n",
      "<defdap.hrdic.Map object at 0x000001C865F2BD40>\n",
      "<defdap.hrdic.Map object at 0x000001C865EE73B0>\n",
      "<defdap.hrdic.Map object at 0x000001C85DE525D0>\n",
      "<defdap.hrdic.Map object at 0x000001C865ED8620>\n",
      "<defdap.hrdic.Map object at 0x000001C86A4C1E80>\n",
      "<defdap.hrdic.Map object at 0x000001C863557B60>\n",
      "<defdap.hrdic.Map object at 0x000001C86A4C1370>\n",
      "<defdap.hrdic.Map object at 0x000001C866092120>\n",
      "<defdap.hrdic.Map object at 0x000001C8660908C0>\n",
      "<defdap.hrdic.Map object at 0x000001C86A4C0CE0>\n",
      "<defdap.hrdic.Map object at 0x000001C865EDA9F0>\n",
      "<defdap.hrdic.Map object at 0x000001C86A4C1820>\n",
      "<defdap.hrdic.Map object at 0x000001C866093BC0>\n",
      "<defdap.hrdic.Map object at 0x000001C86A4C0EF0>\n",
      "<defdap.hrdic.Map object at 0x000001C85DC121E0>\n",
      "<defdap.hrdic.Map object at 0x000001C865F2BC80>\n",
      "<defdap.hrdic.Map object at 0x000001C866090980>\n",
      "<defdap.hrdic.Map object at 0x000001C865EE3350>\n",
      "<defdap.hrdic.Map object at 0x000001C865F29310>\n",
      "<defdap.hrdic.Map object at 0x000001C865F287D0>\n",
      "<defdap.hrdic.Map object at 0x000001C865EE1670>\n",
      "<defdap.hrdic.Map object at 0x000001C85DC135F0>\n",
      "<defdap.hrdic.Map object at 0x000001C849753740>\n",
      "<defdap.hrdic.Map object at 0x000001C86A4C1E50>\n",
      "<defdap.hrdic.Map object at 0x000001C86A4C3920>\n",
      "<defdap.hrdic.Map object at 0x000001C86A4C0740>\n",
      "Loaded EBSD data (dimensions: 3727 x 2795 pixels, step size: 0.2 um)\n"
     ]
    },
    {
     "data": {
      "text/plain": [
       "<defdap.ebsd.Map at 0x1c85dc22960>"
      ]
     },
     "execution_count": 84,
     "metadata": {},
     "output_type": "execute_result"
    }
   ],
   "source": [
    "exp = experiment.Experiment()\n",
    "\n",
    "dic_dir = Path('./DIC/')\n",
    "ebsd_pre_dir = Path('./Pre_EBSD/')\n",
    "ebsd_post_dir = Path('./Post_EBSD/')\n",
    "\n",
    "dic_frame = experiment.Frame()\n",
    "for dic_file in sorted(dic_dir.glob('map_*.txt')):\n",
    "    hrdic.Map(dic_file, experiment=exp, frame=dic_frame,data_type='openpiv')\n",
    "    \n",
    "hfw = 20 # microns\n",
    "pixelwidth = 2048\n",
    "pixelsize = 20/2048\n",
    "\n",
    "for inc, dic_map in exp.iter_over_maps('hrdic'):\n",
    "    dic_map.set_scale(pixelsize)\n",
    "    dic_map.set_crop(left=100,right=100,top=100,bottom=100)\n",
    "    # dic_map.plot_map('max_shear',vmin=0,vmax=0.01,plot_scale_bar=True)\n",
    "    print(dic_map)\n",
    "    \n",
    "ebsd_pre_frame = experiment.Frame()\n",
    "ebsd.Map(ebsd_pre_dir / 'map.cpr',increment=exp.increments[0], frame=ebsd_pre_frame)"
   ]
  },
  {
   "cell_type": "code",
   "execution_count": 85,
   "metadata": {},
   "outputs": [],
   "source": [
    "dic_map = exp.increments[-1].maps['hrdic']\n",
    "dic_map.set_homog_point(vmin=0,vmax=0.2)\n",
    "\n",
    "ebsd_map = exp.increments[0].maps['ebsd']\n",
    "ebsd_map.set_homog_point()"
   ]
  },
  {
   "cell_type": "code",
   "execution_count": 88,
   "metadata": {},
   "outputs": [
    {
     "data": {
      "text/plain": [
       "[(1722, 1177),\n",
       " (1335, 1313),\n",
       " (948, 1745),\n",
       " (549, 1661),\n",
       " (245, 1680),\n",
       " (233, 1300),\n",
       " (579, 1158),\n",
       " (443, 756),\n",
       " (559, 136),\n",
       " (83, 359),\n",
       " (1438, 495),\n",
       " (857, 165)]"
      ]
     },
     "execution_count": 88,
     "metadata": {},
     "output_type": "execute_result"
    }
   ],
   "source": [
    "dic_frame.homog_points = [(1722, 1177),\n",
    " (1335, 1313),\n",
    " (948, 1745),\n",
    " (549, 1661),\n",
    " (245, 1680),\n",
    " (233, 1300),\n",
    " (579, 1158),\n",
    " (443, 756),\n",
    " (559, 136),\n",
    " (83, 359),\n",
    " (1438, 495),\n",
    " (857, 165)]"
   ]
  },
  {
   "cell_type": "code",
   "execution_count": 89,
   "metadata": {},
   "outputs": [
    {
     "data": {
      "text/plain": [
       "[(2541, 1823),\n",
       " (2240, 1932),\n",
       " (1940, 2266),\n",
       " (1631, 2207),\n",
       " (1394, 2225),\n",
       " (1388, 1933),\n",
       " (1659, 1820),\n",
       " (1554, 1519),\n",
       " (1648, 1054),\n",
       " (1279, 1219),\n",
       " (2323, 1319),\n",
       " (1875, 1080)]"
      ]
     },
     "execution_count": 89,
     "metadata": {},
     "output_type": "execute_result"
    }
   ],
   "source": [
    "ebsd_pre_frame.homog_points = [(2541, 1823),\n",
    " (2240, 1932),\n",
    " (1940, 2266),\n",
    " (1631, 2207),\n",
    " (1394, 2225),\n",
    " (1388, 1933),\n",
    " (1659, 1820),\n",
    " (1554, 1519),\n",
    " (1648, 1054),\n",
    " (1279, 1219),\n",
    " (2323, 1319),\n",
    " (1875, 1080)]"
   ]
  },
  {
   "cell_type": "code",
   "execution_count": 3,
   "metadata": {},
   "outputs": [],
   "source": [
    "# try with dataframes\n",
    "df = pd.read_csv(rig_data_file)\n",
    "\n",
    "df.drop(columns = ['Strain (%)','Stress (MPa)','Corrected Elongation (µm)','Corrected Strain (%)'],inplace=True)\n",
    "\n",
    "df['Eng Stress / MPa']  = df['Force (N)']*1e-6/gauge_csa\n",
    "df['Eng Strain / - ']   = (df['Elongation (µm)']-df['Elongation (µm)'][0])*1e-3 / gaugeLength\n",
    "\n",
    "df['True Stress / MPa'] = df['Eng Stress / MPa']*(1 + df['Eng Strain / - '])\n",
    "df['True Strain / - ']  = np.log(1+df['Eng Strain / - '])"
   ]
  },
  {
   "cell_type": "code",
   "execution_count": 4,
   "metadata": {},
   "outputs": [],
   "source": [
    "# get steps with images from DIC file names \n",
    "dic_dir = './DIC'\n",
    "dic_file_list = os.listdir(dic_dir)\n",
    "dic_file_list.remove('images')\n",
    "\n",
    "# get values for start of each step \n",
    "im_steps = np.asarray([x[4:6] for x in dic_file_list],dtype=int)\n",
    "imaging_steps_df = df[df['Step'].isin(im_steps)]\n",
    "\n",
    "# imaging step starts \n",
    "imaging_step_starts_df = imaging_steps_df.groupby(['Step']).first()\n",
    "\n",
    "#force max\n",
    "idx = imaging_steps_df.groupby(['Step'])['Force (N)'].transform(max) == imaging_steps_df['Force (N)']\n",
    "imaging_maxforce_df = imaging_steps_df[idx]\n",
    "\n",
    "# imaging starts \n",
    "imaging_start_times\n",
    "\n"
   ]
  },
  {
   "cell_type": "code",
   "execution_count": 46,
   "metadata": {},
   "outputs": [
    {
     "data": {
      "text/plain": [
       "[<matplotlib.lines.Line2D at 0x1c8634afe30>]"
      ]
     },
     "execution_count": 46,
     "metadata": {},
     "output_type": "execute_result"
    }
   ],
   "source": [
    "plt.plot(imaging_steps_df['Elongation (µm)'],'+')\n",
    "plt.plot(imaging_maxforce_df['Elongation (µm)'],'x')"
   ]
  },
  {
   "cell_type": "code",
   "execution_count": 83,
   "metadata": {},
   "outputs": [
    {
     "ename": "ValueError",
     "evalue": "The truth value of an array with more than one element is ambiguous. Use a.any() or a.all()",
     "output_type": "error",
     "traceback": [
      "\u001b[1;31m---------------------------------------------------------------------------\u001b[0m",
      "\u001b[1;31mValueError\u001b[0m                                Traceback (most recent call last)",
      "Cell \u001b[1;32mIn[83], line 2\u001b[0m\n\u001b[0;32m      1\u001b[0m t1 \u001b[38;5;241m=\u001b[39m imaging_maxforce_df[\u001b[38;5;124m'\u001b[39m\u001b[38;5;124mElapsed Time (s)\u001b[39m\u001b[38;5;124m'\u001b[39m]\u001b[38;5;241m.\u001b[39mto_numpy()\u001b[38;5;241m+\u001b[39mimaging_wait_time\n\u001b[1;32m----> 2\u001b[0m t2 \u001b[38;5;241m=\u001b[39m \u001b[43mnp\u001b[49m\u001b[38;5;241;43m.\u001b[39;49m\u001b[43misclose\u001b[49m\u001b[43m(\u001b[49m\u001b[43mdf\u001b[49m\u001b[43m[\u001b[49m\u001b[38;5;124;43m'\u001b[39;49m\u001b[38;5;124;43mElapsed Time (s)\u001b[39;49m\u001b[38;5;124;43m'\u001b[39;49m\u001b[43m]\u001b[49m\u001b[43m,\u001b[49m\u001b[43mt1\u001b[49m\u001b[43m[\u001b[49m\u001b[38;5;241;43m0\u001b[39;49m\u001b[43m]\u001b[49m\u001b[43m,\u001b[49m\u001b[43matol\u001b[49m\u001b[38;5;241;43m=\u001b[39;49m\u001b[38;5;241;43m0.5\u001b[39;49m\u001b[43m)\u001b[49m\u001b[43m \u001b[49m\u001b[38;5;129;43;01mor\u001b[39;49;00m\u001b[43m \u001b[49m\u001b[43mnp\u001b[49m\u001b[38;5;241;43m.\u001b[39;49m\u001b[43misclose\u001b[49m\u001b[43m(\u001b[49m\u001b[43mdf\u001b[49m\u001b[43m[\u001b[49m\u001b[38;5;124;43m'\u001b[39;49m\u001b[38;5;124;43mElapsed Time (s)\u001b[39;49m\u001b[38;5;124;43m'\u001b[39;49m\u001b[43m]\u001b[49m\u001b[43m,\u001b[49m\u001b[43mt1\u001b[49m\u001b[43m[\u001b[49m\u001b[38;5;241;43m1\u001b[39;49m\u001b[43m]\u001b[49m\u001b[43m,\u001b[49m\u001b[43matol\u001b[49m\u001b[38;5;241;43m=\u001b[39;49m\u001b[38;5;241;43m0.5\u001b[39;49m\u001b[43m)\u001b[49m\n\u001b[0;32m      4\u001b[0m df[t2]\n",
      "\u001b[1;31mValueError\u001b[0m: The truth value of an array with more than one element is ambiguous. Use a.any() or a.all()"
     ]
    }
   ],
   "source": [
    "t1 = imaging_maxforce_df['Elapsed Time (s)'].to_numpy()+imaging_wait_time # <------ this might not work given we only wait on some steps! will need the metadata from the raw images to get this\n",
    "t2 = np.isclose(df['Elapsed Time (s)'],t1[0],atol=0.5) \n",
    "df[t2]"
   ]
  },
  {
   "cell_type": "code",
   "execution_count": 42,
   "metadata": {},
   "outputs": [
    {
     "data": {
      "text/plain": [
       "[<matplotlib.lines.Line2D at 0x1c85dc08da0>]"
      ]
     },
     "execution_count": 42,
     "metadata": {},
     "output_type": "execute_result"
    }
   ],
   "source": [
    "plt.plot(times,'+')\n",
    "plt.plot(image_start_time,'+')"
   ]
  },
  {
   "cell_type": "code",
   "execution_count": 8,
   "metadata": {},
   "outputs": [
    {
     "data": {
      "text/plain": [
       "[<matplotlib.lines.Line2D at 0x1c84978c1d0>]"
      ]
     },
     "execution_count": 8,
     "metadata": {},
     "output_type": "execute_result"
    }
   ],
   "source": [
    "plt.figure()\n",
    "plt.plot(imaging_starts_df['Eng Strain / - '],imaging_starts_df['Eng Stress / MPa'],'+')\n",
    "plt.plot(imaging_maxforce_df['Eng Strain / - '],imaging_maxforce_df['Eng Stress / MPa'],'x')\n",
    "plt.plot(df['Eng Strain / - '],df['Eng Stress / MPa'],'.')"
   ]
  },
  {
   "cell_type": "code",
   "execution_count": 10,
   "metadata": {},
   "outputs": [
    {
     "data": {
      "text/plain": [
       "[<matplotlib.lines.Line2D at 0x1c853303e90>]"
      ]
     },
     "execution_count": 10,
     "metadata": {},
     "output_type": "execute_result"
    }
   ],
   "source": [
    "xvar = 'Elapsed Time (s)'\n",
    "yvar = 'Eng Stress / MPa'\n",
    "\n",
    "plt.figure()\n",
    "plt.plot(imaging_starts_df[xvar],imaging_starts_df[yvar],'+')\n",
    "plt.plot(imaging_maxforce_df[xvar],imaging_maxforce_df[yvar],'x')\n",
    "plt.plot(df[xvar],df[yvar],'-')"
   ]
  },
  {
   "cell_type": "code",
   "execution_count": null,
   "metadata": {},
   "outputs": [],
   "source": []
  }
 ],
 "metadata": {
  "kernelspec": {
   "display_name": "openPIVbatch",
   "language": "python",
   "name": "python3"
  },
  "language_info": {
   "codemirror_mode": {
    "name": "ipython",
    "version": 3
   },
   "file_extension": ".py",
   "mimetype": "text/x-python",
   "name": "python",
   "nbconvert_exporter": "python",
   "pygments_lexer": "ipython3",
   "version": "3.12.0"
  }
 },
 "nbformat": 4,
 "nbformat_minor": 2
}
