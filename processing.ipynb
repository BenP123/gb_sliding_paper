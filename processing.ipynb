{
 "cells": [
  {
   "cell_type": "code",
   "execution_count": 1,
   "metadata": {},
   "outputs": [
    {
     "name": "stderr",
     "output_type": "stream",
     "text": [
      "\u001b[2000D\u001b[KLoading ITKPyBase... \u001b[2000D\u001b[KLoading ITKPyBase... \u001b[2000D\u001b[K\u001b[2000D\u001b[KLoading ITKCommon... \u001b[2000D\u001b[KLoading ITKCommon... \u001b[2000D\u001b[K\u001b[2000D\u001b[KLoading ITKStatistics... \u001b[2000D\u001b[KLoading ITKStatistics... \u001b[2000D\u001b[K\u001b[2000D\u001b[KLoading ITKImageFilterBase... \u001b[2000D\u001b[KLoading ITKImageFilterBase... \u001b[2000D\u001b[K\u001b[2000D\u001b[KLoading ITKTransform... \u001b[2000D\u001b[KLoading ITKTransform... \u001b[2000D\u001b[K\u001b[2000D\u001b[KLoading ITKImageFrequency... \u001b[2000D\u001b[KLoading ITKImageFrequency... \u001b[2000D\u001b[K\u001b[2000D\u001b[KLoading ITKIOImageBase... \u001b[2000D\u001b[KLoading ITKIOBMP... \u001b[2000D\u001b[KLoading ITKIOBMP... \u001b[2000D\u001b[K\u001b[2000D\u001b[KLoading ITKIOBioRad... \u001b[2000D\u001b[KLoading ITKIOBioRad... \u001b[2000D\u001b[K\u001b[2000D\u001b[KLoading ITKIOBruker... \u001b[2000D\u001b[KLoading ITKIOBruker... \u001b[2000D\u001b[K\u001b[2000D\u001b[KLoading ITKIOGDCM... \u001b[2000D\u001b[KLoading ITKIOGDCM... \u001b[2000D\u001b[K\u001b[2000D\u001b[KLoading ITKIOIPL... \u001b[2000D\u001b[KLoading ITKIOIPL... \u001b[2000D\u001b[K\u001b[2000D\u001b[KLoading ITKIOGE... \u001b[2000D\u001b[KLoading ITKIOGE... \u001b[2000D\u001b[K\u001b[2000D\u001b[KLoading ITKIOGIPL... \u001b[2000D\u001b[KLoading ITKIOGIPL... \u001b[2000D\u001b[K\u001b[2000D\u001b[KLoading ITKIOHDF5... \u001b[2000D\u001b[KLoading ITKIOHDF5... \u001b[2000D\u001b[K\u001b[2000D\u001b[KLoading ITKIOJPEG... \u001b[2000D\u001b[KLoading ITKIOJPEG... \u001b[2000D\u001b[K\u001b[2000D\u001b[KLoading ITKIOJPEG2000... \u001b[2000D\u001b[KLoading ITKIOJPEG2000... \u001b[2000D\u001b[K\u001b[2000D\u001b[KLoading ITKIOTIFF... \u001b[2000D\u001b[KLoading ITKIOTIFF... \u001b[2000D\u001b[K\u001b[2000D\u001b[KLoading ITKIOLSM... \u001b[2000D\u001b[KLoading ITKIOLSM... \u001b[2000D\u001b[K\u001b[2000D\u001b[KLoading ITKIOMINC... \u001b[2000D\u001b[KLoading ITKIOMINC... \u001b[2000D\u001b[K\u001b[2000D\u001b[KLoading ITKIOMRC... \u001b[2000D\u001b[KLoading ITKIOMRC... \u001b[2000D\u001b[K\u001b[2000D\u001b[KLoading ITKIOMeta... \u001b[2000D\u001b[KLoading ITKIOMeta... \u001b[2000D\u001b[K\u001b[2000D\u001b[KLoading ITKIONIFTI... \u001b[2000D\u001b[KLoading ITKIONIFTI... \u001b[2000D\u001b[K\u001b[2000D\u001b[KLoading ITKIONRRD... \u001b[2000D\u001b[KLoading ITKIONRRD... \u001b[2000D\u001b[K\u001b[2000D\u001b[KLoading ITKIOPNG... \u001b[2000D\u001b[KLoading ITKIOPNG... \u001b[2000D\u001b[K\u001b[2000D\u001b[KLoading ITKIOStimulate... \u001b[2000D\u001b[KLoading ITKIOStimulate... \u001b[2000D\u001b[K\u001b[2000D\u001b[KLoading ITKIOVTK... \u001b[2000D\u001b[KLoading ITKIOVTK... \u001b[2000D\u001b[K\u001b[2000D\u001b[KLoading ITKIOImageBase... \u001b[2000D\u001b[K\u001b[2000D\u001b[KLoading ITKImageFunction... \u001b[2000D\u001b[KLoading ITKImageFunction... \u001b[2000D\u001b[K\u001b[2000D\u001b[KLoading ITKImageGrid... \u001b[2000D\u001b[KLoading ITKImageGrid... \u001b[2000D\u001b[K\u001b[2000D\u001b[KLoading ITKFFT... \u001b[2000D\u001b[KLoading ITKFFT... \u001b[2000D\u001b[K\u001b[2000D\u001b[KLoading Montage... \u001b[2000D\u001b[KLoading Montage... \u001b[2000D\u001b[K"
     ]
    },
    {
     "name": "stdout",
     "output_type": "stream",
     "text": [
      "<itkTemplate itk::TileConfiguration>\n",
      "Options:\n",
      "  [2,]\n",
      "  [3,]\n",
      "  [4,]\n"
     ]
    }
   ],
   "source": [
    "### Cu 003 processing ###\n",
    "\n",
    "\n",
    "#%% load the packages\n",
    "import numpy as np\n",
    "import matplotlib.pyplot as plt\n",
    "from matplotlib.gridspec import GridSpec\n",
    "\n",
    "import defdap.hrdic as hrdic\n",
    "import defdap.ebsd as ebsd\n",
    "import defdap.experiment as experiment\n",
    "\n",
    "from pathlib import Path\n",
    "\n",
    "import copy \n",
    "import pandas as pd\n",
    "from datetime import datetime\n",
    "\n",
    "import os\n",
    "\n",
    "# get dictools stuff \n",
    "import sys\n",
    "sys.path.append(\"c:/work/hrdic-tools/\")\n",
    "import dictools\n",
    "\n",
    "plt.rcParams['svg.fonttype'] = 'none'\n",
    "\n",
    "%matplotlib qt"
   ]
  },
  {
   "cell_type": "code",
   "execution_count": 2,
   "metadata": {},
   "outputs": [],
   "source": [
    "gaugeLength = 12.0      # mm\n",
    "gaugeWidth = 1.5        # mm\n",
    "gaugeThickness = 1.1035 # mm\n",
    "rig_data_file = './ofhc_cu_5pc.csv'\n",
    "\n",
    "imaging_wait_time = 300 # s\n",
    "\n",
    "gauge_csa = gaugeWidth*gaugeThickness*1e-6 # m^2\n",
    "\n",
    "# rigdata = dictools.expDat(rig_data_file,gaugeLength,gaugeWidth,gaugeThickness)"
   ]
  },
  {
   "cell_type": "code",
   "execution_count": 3,
   "metadata": {},
   "outputs": [],
   "source": [
    "# try with dataframes\n",
    "df = pd.read_csv(rig_data_file)\n",
    "\n",
    "df.drop(columns = ['Strain (%)','Stress (MPa)','Corrected Elongation (µm)','Corrected Strain (%)'],inplace=True)\n",
    "\n",
    "df['Eng Stress / MPa']  = df['Force (N)']*1e-6/gauge_csa\n",
    "df['Eng Strain / - ']   = (df['Elongation (µm)']-df['Elongation (µm)'][0])*1e-3 / gaugeLength\n",
    "\n",
    "df['True Stress / MPa'] = df['Eng Stress / MPa']*(1 + df['Eng Strain / - '])\n",
    "df['True Strain / - ']  = np.log(1+df['Eng Strain / - '])"
   ]
  },
  {
   "cell_type": "code",
   "execution_count": 4,
   "metadata": {},
   "outputs": [],
   "source": [
    "# get steps with images from DIC file names \n",
    "dic_dir = './DIC'\n",
    "dic_file_list = os.listdir(dic_dir)\n",
    "dic_file_list.remove('images')\n",
    "\n",
    "# get values for start of each step \n",
    "im_steps = np.asarray([x[4:6] for x in dic_file_list],dtype=int)\n",
    "imaging_steps_df = df[df['Step'].isin(im_steps)]\n",
    "\n",
    "# imaging step starts \n",
    "imaging_step_starts_df = imaging_steps_df.groupby(['Step']).first()\n",
    "\n",
    "#force max\n",
    "idx = imaging_steps_df.groupby(['Step'])['Force (N)'].transform(max) == imaging_steps_df['Force (N)']\n",
    "imaging_maxforce_df = imaging_steps_df[idx]\n",
    "\n",
    "# imaging starts \n",
    "imaging_start_times\n",
    "\n"
   ]
  },
  {
   "cell_type": "code",
   "execution_count": 46,
   "metadata": {},
   "outputs": [
    {
     "data": {
      "text/plain": [
       "[<matplotlib.lines.Line2D at 0x1c8634afe30>]"
      ]
     },
     "execution_count": 46,
     "metadata": {},
     "output_type": "execute_result"
    }
   ],
   "source": [
    "plt.plot(imaging_steps_df['Elongation (µm)'],'+')\n",
    "plt.plot(imaging_maxforce_df['Elongation (µm)'],'x')"
   ]
  },
  {
   "cell_type": "code",
   "execution_count": 83,
   "metadata": {},
   "outputs": [
    {
     "ename": "ValueError",
     "evalue": "The truth value of an array with more than one element is ambiguous. Use a.any() or a.all()",
     "output_type": "error",
     "traceback": [
      "\u001b[1;31m---------------------------------------------------------------------------\u001b[0m",
      "\u001b[1;31mValueError\u001b[0m                                Traceback (most recent call last)",
      "Cell \u001b[1;32mIn[83], line 2\u001b[0m\n\u001b[0;32m      1\u001b[0m t1 \u001b[38;5;241m=\u001b[39m imaging_maxforce_df[\u001b[38;5;124m'\u001b[39m\u001b[38;5;124mElapsed Time (s)\u001b[39m\u001b[38;5;124m'\u001b[39m]\u001b[38;5;241m.\u001b[39mto_numpy()\u001b[38;5;241m+\u001b[39mimaging_wait_time\n\u001b[1;32m----> 2\u001b[0m t2 \u001b[38;5;241m=\u001b[39m \u001b[43mnp\u001b[49m\u001b[38;5;241;43m.\u001b[39;49m\u001b[43misclose\u001b[49m\u001b[43m(\u001b[49m\u001b[43mdf\u001b[49m\u001b[43m[\u001b[49m\u001b[38;5;124;43m'\u001b[39;49m\u001b[38;5;124;43mElapsed Time (s)\u001b[39;49m\u001b[38;5;124;43m'\u001b[39;49m\u001b[43m]\u001b[49m\u001b[43m,\u001b[49m\u001b[43mt1\u001b[49m\u001b[43m[\u001b[49m\u001b[38;5;241;43m0\u001b[39;49m\u001b[43m]\u001b[49m\u001b[43m,\u001b[49m\u001b[43matol\u001b[49m\u001b[38;5;241;43m=\u001b[39;49m\u001b[38;5;241;43m0.5\u001b[39;49m\u001b[43m)\u001b[49m\u001b[43m \u001b[49m\u001b[38;5;129;43;01mor\u001b[39;49;00m\u001b[43m \u001b[49m\u001b[43mnp\u001b[49m\u001b[38;5;241;43m.\u001b[39;49m\u001b[43misclose\u001b[49m\u001b[43m(\u001b[49m\u001b[43mdf\u001b[49m\u001b[43m[\u001b[49m\u001b[38;5;124;43m'\u001b[39;49m\u001b[38;5;124;43mElapsed Time (s)\u001b[39;49m\u001b[38;5;124;43m'\u001b[39;49m\u001b[43m]\u001b[49m\u001b[43m,\u001b[49m\u001b[43mt1\u001b[49m\u001b[43m[\u001b[49m\u001b[38;5;241;43m1\u001b[39;49m\u001b[43m]\u001b[49m\u001b[43m,\u001b[49m\u001b[43matol\u001b[49m\u001b[38;5;241;43m=\u001b[39;49m\u001b[38;5;241;43m0.5\u001b[39;49m\u001b[43m)\u001b[49m\n\u001b[0;32m      4\u001b[0m df[t2]\n",
      "\u001b[1;31mValueError\u001b[0m: The truth value of an array with more than one element is ambiguous. Use a.any() or a.all()"
     ]
    }
   ],
   "source": [
    "t1 = imaging_maxforce_df['Elapsed Time (s)'].to_numpy()+imaging_wait_time # <------ this might not work given we only wait on some steps! will need the metadata from the raw images to get this\n",
    "t2 = np.isclose(df['Elapsed Time (s)'],t1[0],atol=0.5) \n",
    "df[t2]"
   ]
  },
  {
   "cell_type": "code",
   "execution_count": 42,
   "metadata": {},
   "outputs": [
    {
     "data": {
      "text/plain": [
       "[<matplotlib.lines.Line2D at 0x1c85dc08da0>]"
      ]
     },
     "execution_count": 42,
     "metadata": {},
     "output_type": "execute_result"
    }
   ],
   "source": [
    "plt.plot(times,'+')\n",
    "plt.plot(image_start_time,'+')"
   ]
  },
  {
   "cell_type": "code",
   "execution_count": 8,
   "metadata": {},
   "outputs": [
    {
     "data": {
      "text/plain": [
       "[<matplotlib.lines.Line2D at 0x1c84978c1d0>]"
      ]
     },
     "execution_count": 8,
     "metadata": {},
     "output_type": "execute_result"
    }
   ],
   "source": [
    "plt.figure()\n",
    "plt.plot(imaging_starts_df['Eng Strain / - '],imaging_starts_df['Eng Stress / MPa'],'+')\n",
    "plt.plot(imaging_maxforce_df['Eng Strain / - '],imaging_maxforce_df['Eng Stress / MPa'],'x')\n",
    "plt.plot(df['Eng Strain / - '],df['Eng Stress / MPa'],'.')"
   ]
  },
  {
   "cell_type": "code",
   "execution_count": 10,
   "metadata": {},
   "outputs": [
    {
     "data": {
      "text/plain": [
       "[<matplotlib.lines.Line2D at 0x1c853303e90>]"
      ]
     },
     "execution_count": 10,
     "metadata": {},
     "output_type": "execute_result"
    }
   ],
   "source": [
    "xvar = 'Elapsed Time (s)'\n",
    "yvar = 'Eng Stress / MPa'\n",
    "\n",
    "plt.figure()\n",
    "plt.plot(imaging_starts_df[xvar],imaging_starts_df[yvar],'+')\n",
    "plt.plot(imaging_maxforce_df[xvar],imaging_maxforce_df[yvar],'x')\n",
    "plt.plot(df[xvar],df[yvar],'-')"
   ]
  }
 ],
 "metadata": {
  "kernelspec": {
   "display_name": "openPIVbatch",
   "language": "python",
   "name": "python3"
  },
  "language_info": {
   "codemirror_mode": {
    "name": "ipython",
    "version": 3
   },
   "file_extension": ".py",
   "mimetype": "text/x-python",
   "name": "python",
   "nbconvert_exporter": "python",
   "pygments_lexer": "ipython3",
   "version": "3.12.0"
  }
 },
 "nbformat": 4,
 "nbformat_minor": 2
}
