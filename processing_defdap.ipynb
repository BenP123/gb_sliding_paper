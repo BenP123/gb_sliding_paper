{
 "cells": [
  {
   "cell_type": "code",
   "execution_count": null,
   "metadata": {},
   "outputs": [],
   "source": [
    "### Cu 003 processing ###\n",
    "\n",
    "\n",
    "#%% load the packages\n",
    "import numpy as np\n",
    "import matplotlib.pyplot as plt\n",
    "from matplotlib import gridspec\n",
    "\n",
    "import defdap.hrdic as hrdic\n",
    "import defdap.ebsd as ebsd\n",
    "import defdap.experiment as experiment\n",
    "from defdap.quat import Quat\n",
    "\n",
    "from pathlib import Path\n",
    "\n",
    "import copy \n",
    "import pandas as pd\n",
    "import datetime\n",
    "\n",
    "from scipy.signal import find_peaks\n",
    "from scipy.linalg import sqrtm, polar\n",
    "\n",
    "\n",
    "import os\n",
    "\n",
    "# get dictools stuff \n",
    "import sys\n",
    "sys.path.append(\"c:/work/hrdic-tools/\")\n",
    "import dictools\n",
    "\n",
    "plt.rcParams['svg.fonttype'] = 'none'\n",
    "\n",
    "%matplotlib qt"
   ]
  },
  {
   "cell_type": "code",
   "execution_count": null,
   "metadata": {},
   "outputs": [],
   "source": [
    "exp = experiment.Experiment()\n",
    "\n",
    "# load DIC data \n",
    "data_dir = Path('.')\n",
    "dic_frame = experiment.Frame()\n",
    "for dic_file in sorted(data_dir.glob('map_*.txt')):\n",
    "    hrdic.Map(dic_file, experiment=exp, frame=dic_frame,data_type='openpiv')"
   ]
  },
  {
   "cell_type": "code",
   "execution_count": null,
   "metadata": {},
   "outputs": [],
   "source": [
    "ebsd_frame = experiment.Frame()\n",
    "ebsd.Map(data_dir / 'Post_EBSD/map_small.cpr',\n",
    "         increment=exp.increments[0], frame=ebsd_frame)"
   ]
  },
  {
   "cell_type": "code",
   "execution_count": null,
   "metadata": {},
   "outputs": [],
   "source": [
    "ebsd_map = exp.increments[0].maps['ebsd']\n",
    "ebsd_map.set_homog_point()\n",
    "\n",
    "dic_map = exp.increments[0].maps['hrdic']\n",
    "dic_map.set_homog_point(vmin=0,vmax=0.1)"
   ]
  },
  {
   "cell_type": "code",
   "execution_count": null,
   "metadata": {},
   "outputs": [],
   "source": [
    "dic_frame.s"
   ]
  },
  {
   "cell_type": "code",
   "execution_count": null,
   "metadata": {},
   "outputs": [],
   "source": [
    "ebsd_frame.homog_points= [(275, 379),\n",
    " (300, 199),\n",
    " (655, 232),\n",
    " (675, 124),\n",
    " (891, 264),\n",
    " (1166, 289),\n",
    " (1481, 211),\n",
    " (1404, 592),\n",
    " (959, 756),\n",
    " (698, 977),\n",
    " (1279, 949),\n",
    " (1433, 1026),\n",
    " (1614, 1404),\n",
    " (984, 1502),\n",
    " (1084, 1192),\n",
    " (875, 1103),\n",
    " (337, 1258),\n",
    " (546, 1448),\n",
    " (381, 1108),\n",
    " (507, 748),\n",
    " (451, 549)]"
   ]
  },
  {
   "cell_type": "code",
   "execution_count": null,
   "metadata": {},
   "outputs": [],
   "source": [
    "dic_frame.homog_points = [(184, 460),\n",
    " (214, 205),\n",
    " (656, 240),\n",
    " (683, 93),\n",
    " (957, 266),\n",
    " (1306, 289),\n",
    " (1697, 167),\n",
    " (1607, 684),\n",
    " (1052, 925),\n",
    " (727, 1220),\n",
    " (1450, 1180),\n",
    " (1641, 1268),\n",
    " (1862, 1763),\n",
    " (1086, 1885),\n",
    " (1208, 1481),\n",
    " (950, 1374),\n",
    " (290, 1604),\n",
    " (543, 1830),\n",
    " (334, 1401),\n",
    " (484, 925),\n",
    " (402, 665)]"
   ]
  },
  {
   "cell_type": "code",
   "execution_count": null,
   "metadata": {},
   "outputs": [],
   "source": [
    "hfw = 20.0 # microns\n",
    "pixelwidth = 2048\n",
    "pixelsize = hfw/pixelwidth\n",
    "\n",
    "for inc, dic_map in exp.iter_over_maps('hrdic'):\n",
    "    dic_map.link_ebsd_map(ebsd_map, transform_type=\"projective\")\n",
    "    \n",
    "\n",
    "\n",
    "    dic_map.set_scale(pixelsize)\n",
    "    dic_map.set_crop(left=100,right=100,top=100,bottom=100)\n",
    "\n",
    "    dic_map.plot_map(\n",
    "        'max_shear', vmin=0, vmax=0.10, \n",
    "        plot_scale_bar=False, plot_gbs='line'\n",
    "    )\n",
    "    plt.tight_layout()"
   ]
  },
  {
   "cell_type": "code",
   "execution_count": null,
   "metadata": {},
   "outputs": [],
   "source": [
    "dic_map.data.keys()"
   ]
  },
  {
   "cell_type": "code",
   "execution_count": null,
   "metadata": {},
   "outputs": [],
   "source": [
    "f = dic_map.data['f']\n",
    "r = np.zeros(f.shape)\n",
    "\n",
    "for i in range(0,f.shape[2]):\n",
    "    for j in range(0,f.shape[3]):\n",
    "        r[:,:,i,j],_ = polar(f[:,:,i,j])\n",
    "\n",
    "# force this into defdap! \n",
    "dic_map.data['r'] = r"
   ]
  },
  {
   "cell_type": "code",
   "execution_count": null,
   "metadata": {},
   "outputs": [],
   "source": [
    "# test with a single map to make things easier\n",
    "# exp = experiment.Experiment()\n",
    "\n",
    "dic_dir = Path('./DIC/')\n",
    "ebsd_pre_dir = Path('./Pre_EBSD/')\n",
    "ebsd_post_dir = Path('./Post_EBSD/')\n",
    "\n",
    "dic_frame = experiment.Frame()\n",
    "# for dic_file in sorted(dic_dir.glob('map_*.txt')):\n",
    "#     hrdic.Map(dic_file, experiment=exp, frame=dic_frame,data_type='openpiv')\n",
    "    \n",
    "dic_map = hrdic.Map(dic_dir/ 'map_44.txt', data_type='openpiv')\n",
    "\n",
    "hfw = 20.0 # microns\n",
    "pixelwidth = 2048\n",
    "pixelsize = hfw/pixelwidth\n",
    "\n",
    "\n",
    "# for inc, dic_map in exp.iter_over_maps('hrdic'):\n",
    "#     dic_map.set_scale(pixelsize)\n",
    "#     dic_map.set_crop(left=100,right=100,top=100,bottom=100)\n",
    "#     # dic_map.plot_map('max_shear',vmin=0,vmax=0.01,plot_scale_bar=True)\n",
    "#     print(dic_map)\n",
    "\n",
    "dic_map.set_scale(pixelsize)\n",
    "dic_map.set_crop(left=100,right=100,top=100,bottom=100)\n",
    "\n",
    "ebsd_pre_frame = experiment.Frame()\n",
    "ebsd_map=ebsd.Map(ebsd_pre_dir / 'map.cpr',increment=exp.increments[0], frame=ebsd_pre_frame)\n",
    "\n",
    "ebsd_map.find_grains()\n",
    "ebsd_map.build_neighbour_network()"
   ]
  },
  {
   "cell_type": "code",
   "execution_count": null,
   "metadata": {},
   "outputs": [],
   "source": [
    "# exp = experiment.Experiment()\n",
    "\n",
    "# dic_dir = Path('./DIC/')\n",
    "# ebsd_pre_dir = Path('./Pre_EBSD/')\n",
    "# ebsd_post_dir = Path('./Post_EBSD/')\n",
    "\n",
    "# dic_frame = experiment.Frame()\n",
    "# for dic_file in sorted(dic_dir.glob('map_*.txt')):\n",
    "#     hrdic.Map(dic_file, experiment=exp, frame=dic_frame,data_type='openpiv')\n",
    "    \n",
    "# hfw = 20.0 # microns\n",
    "# pixelwidth = 2048\n",
    "# pixelsize = hfw/pixelwidth\n",
    "\n",
    "# for inc, dic_map in exp.iter_over_maps('hrdic'):\n",
    "#     dic_map.set_scale(pixelsize)\n",
    "#     dic_map.set_crop(left=100,right=100,top=100,bottom=100)\n",
    "#     # dic_map.plot_map('max_shear',vmin=0,vmax=0.01,plot_scale_bar=True)\n",
    "#     print(dic_map)\n",
    "    \n",
    "# ebsd_pre_frame = experiment.Frame()\n",
    "# ebsd.Map(ebsd_pre_dir / 'map.cpr',increment=exp.increments[0], frame=ebsd_pre_frame)\n",
    "\n",
    "# ebsd_map = exp.increments[0].maps['ebsd']\n",
    "# ebsd_map.find_boundaries()\n",
    "# ebsd_map.find_grains\n",
    "# ebsd_map.build_neighbour_network()"
   ]
  },
  {
   "cell_type": "code",
   "execution_count": null,
   "metadata": {},
   "outputs": [],
   "source": [
    "# ebsd_post_frame = experiment.Frame()\n",
    "# ebsd.Map(ebsd_post_dir / 'map_small.cpr',increment=exp.increments[-1], frame=ebsd_post_frame)"
   ]
  },
  {
   "cell_type": "code",
   "execution_count": null,
   "metadata": {},
   "outputs": [],
   "source": [
    "exp.increments[1].maps['ebsd']"
   ]
  },
  {
   "cell_type": "code",
   "execution_count": null,
   "metadata": {},
   "outputs": [],
   "source": [
    "# dic_map = exp.increments[0].maps['hrdic']\n",
    "dic_map.set_homog_point(vmin=0,vmax=0.2)\n",
    "\n",
    "# ebsd_map = exp.increments[0].maps['ebsd']\n",
    "ebsd_map.set_homog_point()\n",
    "\n",
    "# dic_map.homog_points = [(1722, 1177),\n",
    "#  (1335, 1313),\n",
    "#  (948, 1745),\n",
    "#  (549, 1661),\n",
    "#  (245, 1680),\n",
    "#  (233, 1300),\n",
    "#  (579, 1158),\n",
    "#  (443, 756),\n",
    "#  (559, 136),\n",
    "#  (83, 359),\n",
    "#  (1438, 495),\n",
    "#  (857, 165)]\n",
    "\n",
    "# ebsd_map.homog_points = [(2541, 1823),\n",
    "#  (2240, 1932),\n",
    "#  (1940, 2266),\n",
    "#  (1631, 2207),\n",
    "#  (1394, 2225),\n",
    "#  (1388, 1933),\n",
    "#  (1659, 1820),\n",
    "#  (1554, 1519),\n",
    "#  (1648, 1054),\n",
    "#  (1279, 1219),\n",
    "#  (2323, 1319),\n",
    "#  (1875, 1080)]\n",
    "\n",
    "# dic_map.link_ebsd_map(ebsd_map, transform_type=\"polynomial\",order=2)\n",
    "# dic_map.plot_map('max_shear', vmin=0,vmax=0.1,plot_scale_bar=True,plot_gbs=True)\n",
    "#  # link maps\n",
    "# for inc, dic_map in exp.iter_over_maps('hrdic'):\n",
    "#     dic_map.set_crop\n",
    "#     dic_map.link_ebsd_map(ebsd_map, transform_type=\"polynomial\",order=2)\n",
    "#     # dic_map.plot_map(\n",
    "#     #     'max_shear', vmin=0, vmax=0.10, \n",
    "#     #     plot_scale_bar=False, plot_gbs='line'\n",
    "#     # )\n",
    "    # plt.tight_layout()"
   ]
  },
  {
   "cell_type": "code",
   "execution_count": null,
   "metadata": {},
   "outputs": [],
   "source": []
  },
  {
   "cell_type": "code",
   "execution_count": null,
   "metadata": {},
   "outputs": [],
   "source": [
    "# find twin boundaries\n",
    "misori_twin = Quat.from_axis_angle([1, 1, 1], 60*np.pi/180)\n",
    "misori_twin_tol = 5*np.pi/180\n",
    "\n",
    "# create all symmetric equivalent misorientations\n",
    "misori_twin_all = []\n",
    "syms = ebsd_map.primary_phase.crystal_structure.symmetries\n",
    "for sym_i in syms:\n",
    "    for sym_j in syms:\n",
    "        misori_twin_all.append(sym_i.conjugate * misori_twin * sym_j)\n",
    "# get rid of any duplicates\n",
    "misori_twin_all = list(set(misori_twin_all))\n",
    "\n",
    "# loop over all grain boundary segments and check if the misorientation between\n",
    "# the two grains is within tolerance of the twin misorientation\n",
    "twin_lines = []\n",
    "for grain1, grain2, b_seg in ebsd_map.neighbour_network.edges.data('boundary'):\n",
    "    twin = False\n",
    "    misori = grain2.ref_ori * grain1.ref_ori.conjugate\n",
    "    for misori_twin in misori_twin_all:\n",
    "        if 2 * np.arccos(misori_twin.dot(misori)) < misori_twin_tol:\n",
    "            twin = True\n",
    "            break\n",
    "    \n",
    "    if not twin:\n",
    "        continue\n",
    "    \n",
    "    twin_lines += b_seg.boundary_lines"
   ]
  },
  {
   "cell_type": "code",
   "execution_count": null,
   "metadata": {},
   "outputs": [],
   "source": [
    "ebsd_map.build_neighbour_network()"
   ]
  },
  {
   "cell_type": "code",
   "execution_count": null,
   "metadata": {},
   "outputs": [],
   "source": [
    "ebsd_map."
   ]
  },
  {
   "cell_type": "code",
   "execution_count": null,
   "metadata": {},
   "outputs": [],
   "source": []
  },
  {
   "cell_type": "code",
   "execution_count": null,
   "metadata": {},
   "outputs": [],
   "source": [
    "t = ebsd_map.neighbour_network.edges.data('boundary')"
   ]
  },
  {
   "cell_type": "code",
   "execution_count": null,
   "metadata": {},
   "outputs": [],
   "source": [
    "plot = ebsd_map.plot_ipf_map([1,0,0])\n",
    "plot.add_grain_boundaries(kind='line',boundaries=twin_lines, colour='red')"
   ]
  },
  {
   "cell_type": "code",
   "execution_count": null,
   "metadata": {},
   "outputs": [],
   "source": [
    " # plot maps\n",
    "for inc, dic_map in exp.iter_over_maps('hrdic'):\n",
    "    dic_map.set_crop\n",
    "    dic_map.link_ebsd_map(ebsd_map, transform_type=\"polynomial\",order=2)\n",
    "    # dic_map.plot_map(\n",
    "    #     'max_shear', vmin=0, vmax=0.10, \n",
    "    #     plot_scale_bar=False, plot_gbs='line'\n",
    "    # )\n",
    "    # plt.tight_layout()\n",
    "\n",
    "dic_map = exp.increments[-1].maps['hrdic'] \n",
    "dic_map.plot_map(\n",
    "    \n",
    ")"
   ]
  }
 ],
 "metadata": {
  "kernelspec": {
   "display_name": "openPIVbatch",
   "language": "python",
   "name": "python3"
  },
  "language_info": {
   "codemirror_mode": {
    "name": "ipython",
    "version": 3
   },
   "file_extension": ".py",
   "mimetype": "text/x-python",
   "name": "python",
   "nbconvert_exporter": "python",
   "pygments_lexer": "ipython3",
   "version": "3.12.0"
  }
 },
 "nbformat": 4,
 "nbformat_minor": 2
}
