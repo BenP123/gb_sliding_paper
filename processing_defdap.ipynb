{
 "cells": [
  {
   "cell_type": "code",
   "execution_count": 29,
   "metadata": {},
   "outputs": [],
   "source": [
    "### Cu 003 processing ###\n",
    "\n",
    "\n",
    "#%% load the packages\n",
    "import numpy as np\n",
    "import matplotlib.pyplot as plt\n",
    "from matplotlib import gridspec\n",
    "\n",
    "import defdap.hrdic as hrdic\n",
    "import defdap.ebsd as ebsd\n",
    "import defdap.experiment as experiment\n",
    "\n",
    "from pathlib import Path\n",
    "\n",
    "import copy \n",
    "import pandas as pd\n",
    "import datetime\n",
    "\n",
    "from scipy.signal import find_peaks\n",
    "\n",
    "import os\n",
    "\n",
    "# get dictools stuff \n",
    "import sys\n",
    "sys.path.append(\"c:/Ben/Work/hrdic-tools/\")\n",
    "import dictools\n",
    "\n",
    "plt.rcParams['svg.fonttype'] = 'none'\n",
    "\n",
    "%matplotlib qt"
   ]
  },
  {
   "cell_type": "code",
   "execution_count": null,
   "metadata": {},
   "outputs": [],
   "source": [
    "exp = experiment.Experiment()\n",
    "\n",
    "dic_dir = Path('./DIC/')\n",
    "ebsd_pre_dir = Path('./Pre_EBSD/')\n",
    "ebsd_post_dir = Path('./Post_EBSD/')\n",
    "\n",
    "dic_frame = experiment.Frame()\n",
    "for dic_file in sorted(dic_dir.glob('map_*.txt')):\n",
    "    hrdic.Map(dic_file, experiment=exp, frame=dic_frame,data_type='openpiv')\n",
    "    \n",
    "hfw = 20.0 # microns\n",
    "pixelwidth = 2048\n",
    "pixelsize = hfw/pixelwidth\n",
    "\n",
    "for inc, dic_map in exp.iter_over_maps('hrdic'):\n",
    "    dic_map.set_scale(pixelsize)\n",
    "    dic_map.set_crop(left=100,right=100,top=100,bottom=100)\n",
    "    # dic_map.plot_map('max_shear',vmin=0,vmax=0.01,plot_scale_bar=True)\n",
    "    print(dic_map)\n",
    "    \n",
    "ebsd_pre_frame = experiment.Frame()\n",
    "ebsd.Map(ebsd_pre_dir / 'map.cpr',increment=exp.increments[0], frame=ebsd_pre_frame)"
   ]
  },
  {
   "cell_type": "code",
   "execution_count": null,
   "metadata": {},
   "outputs": [],
   "source": [
    "dic_map = exp.increments[-1].maps['hrdic']\n",
    "dic_map.set_homog_point(vmin=0,vmax=0.2)\n",
    "\n",
    "ebsd_map = exp.increments[0].maps['ebsd']\n",
    "ebsd_map.set_homog_point()"
   ]
  },
  {
   "cell_type": "code",
   "execution_count": null,
   "metadata": {},
   "outputs": [],
   "source": [
    "dic_frame.homog_points = [(1722, 1177),\n",
    " (1335, 1313),\n",
    " (948, 1745),\n",
    " (549, 1661),\n",
    " (245, 1680),\n",
    " (233, 1300),\n",
    " (579, 1158),\n",
    " (443, 756),\n",
    " (559, 136),\n",
    " (83, 359),\n",
    " (1438, 495),\n",
    " (857, 165)]"
   ]
  },
  {
   "cell_type": "code",
   "execution_count": null,
   "metadata": {},
   "outputs": [],
   "source": [
    "ebsd_pre_frame.homog_points = [(2541, 1823),\n",
    " (2240, 1932),\n",
    " (1940, 2266),\n",
    " (1631, 2207),\n",
    " (1394, 2225),\n",
    " (1388, 1933),\n",
    " (1659, 1820),\n",
    " (1554, 1519),\n",
    " (1648, 1054),\n",
    " (1279, 1219),\n",
    " (2323, 1319),\n",
    " (1875, 1080)]"
   ]
  },
  {
   "cell_type": "code",
   "execution_count": null,
   "metadata": {},
   "outputs": [],
   "source": [
    " # plot maps\n",
    "for inc, dic_map in exp.iter_over_maps('hrdic'):\n",
    "    dic_map.set_crop\n",
    "    dic_map.link_ebsd_map(ebsd_map, transform_type=\"polynomial\",order=2)\n",
    "    # dic_map.plot_map(\n",
    "    #     'max_shear', vmin=0, vmax=0.10, \n",
    "    #     plot_scale_bar=False, plot_gbs='line'\n",
    "    # )\n",
    "    # plt.tight_layout()"
   ]
  }
 ],
 "metadata": {
  "kernelspec": {
   "display_name": "openPIVbatch",
   "language": "python",
   "name": "python3"
  },
  "language_info": {
   "codemirror_mode": {
    "name": "ipython",
    "version": 3
   },
   "file_extension": ".py",
   "mimetype": "text/x-python",
   "name": "python",
   "nbconvert_exporter": "python",
   "pygments_lexer": "ipython3",
   "version": "3.10.15"
  }
 },
 "nbformat": 4,
 "nbformat_minor": 2
}
