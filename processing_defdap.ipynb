{
 "cells": [
  {
   "cell_type": "code",
   "execution_count": 1,
   "metadata": {},
   "outputs": [
    {
     "name": "stderr",
     "output_type": "stream",
     "text": [
      "c:\\work\\defdap\\defdap\\hrdic.py:525: SyntaxWarning: invalid escape sequence '\\/'\n",
      "  print('Filtering will remove {0} \\/ {1} ({2:.3f} %) datapoints in map'\n",
      "c:\\work\\defdap\\defdap\\hrdic.py:528: SyntaxWarning: invalid escape sequence '\\/'\n",
      "  'Filtering will remove {0} \\/ {1} ({2:.3f} %) datapoints in cropped map'\n",
      "\u001b[2000D\u001b[KLoading ITKPyBase... \u001b[2000D\u001b[KLoading ITKPyBase... \u001b[2000D\u001b[K\u001b[2000D\u001b[KLoading ITKCommon... \u001b[2000D\u001b[KLoading ITKCommon... \u001b[2000D\u001b[K\u001b[2000D\u001b[KLoading ITKStatistics... \u001b[2000D\u001b[KLoading ITKStatistics... \u001b[2000D\u001b[K\u001b[2000D\u001b[KLoading ITKImageFilterBase... \u001b[2000D\u001b[KLoading ITKImageFilterBase... \u001b[2000D\u001b[K\u001b[2000D\u001b[KLoading ITKTransform... \u001b[2000D\u001b[KLoading ITKTransform... \u001b[2000D\u001b[K\u001b[2000D\u001b[KLoading ITKImageFrequency... \u001b[2000D\u001b[KLoading ITKImageFrequency... \u001b[2000D\u001b[K\u001b[2000D\u001b[KLoading ITKIOImageBase... \u001b[2000D\u001b[KLoading ITKIOBMP... \u001b[2000D\u001b[KLoading ITKIOBMP... \u001b[2000D\u001b[K\u001b[2000D\u001b[KLoading ITKIOBioRad... \u001b[2000D\u001b[KLoading ITKIOBioRad... \u001b[2000D\u001b[K\u001b[2000D\u001b[KLoading ITKIOBruker... \u001b[2000D\u001b[KLoading ITKIOBruker... \u001b[2000D\u001b[K\u001b[2000D\u001b[KLoading ITKIOGDCM... \u001b[2000D\u001b[KLoading ITKIOGDCM... \u001b[2000D\u001b[K\u001b[2000D\u001b[KLoading ITKIOIPL... \u001b[2000D\u001b[KLoading ITKIOIPL... \u001b[2000D\u001b[K\u001b[2000D\u001b[KLoading ITKIOGE... \u001b[2000D\u001b[KLoading ITKIOGE... \u001b[2000D\u001b[K\u001b[2000D\u001b[KLoading ITKIOGIPL... \u001b[2000D\u001b[KLoading ITKIOGIPL... \u001b[2000D\u001b[K\u001b[2000D\u001b[KLoading ITKIOHDF5... \u001b[2000D\u001b[KLoading ITKIOHDF5... \u001b[2000D\u001b[K\u001b[2000D\u001b[KLoading ITKIOJPEG... \u001b[2000D\u001b[KLoading ITKIOJPEG... \u001b[2000D\u001b[K\u001b[2000D\u001b[KLoading ITKIOJPEG2000... \u001b[2000D\u001b[KLoading ITKIOJPEG2000... \u001b[2000D\u001b[K\u001b[2000D\u001b[KLoading ITKIOTIFF... \u001b[2000D\u001b[KLoading ITKIOTIFF... \u001b[2000D\u001b[K\u001b[2000D\u001b[KLoading ITKIOLSM... \u001b[2000D\u001b[KLoading ITKIOLSM... \u001b[2000D\u001b[K\u001b[2000D\u001b[KLoading ITKIOMINC... \u001b[2000D\u001b[KLoading ITKIOMINC... \u001b[2000D\u001b[K\u001b[2000D\u001b[KLoading ITKIOMRC... \u001b[2000D\u001b[KLoading ITKIOMRC... \u001b[2000D\u001b[K\u001b[2000D\u001b[KLoading ITKIOMeta... \u001b[2000D\u001b[KLoading ITKIOMeta... \u001b[2000D\u001b[K\u001b[2000D\u001b[KLoading ITKIONIFTI... \u001b[2000D\u001b[KLoading ITKIONIFTI... \u001b[2000D\u001b[K\u001b[2000D\u001b[KLoading ITKIONRRD... \u001b[2000D\u001b[KLoading ITKIONRRD... \u001b[2000D\u001b[K\u001b[2000D\u001b[KLoading ITKIOPNG... \u001b[2000D\u001b[KLoading ITKIOPNG... \u001b[2000D\u001b[K\u001b[2000D\u001b[KLoading ITKIOStimulate... \u001b[2000D\u001b[KLoading ITKIOStimulate... \u001b[2000D\u001b[K\u001b[2000D\u001b[KLoading ITKIOVTK... \u001b[2000D\u001b[KLoading ITKIOVTK... \u001b[2000D\u001b[K\u001b[2000D\u001b[KLoading ITKIOImageBase... \u001b[2000D\u001b[K\u001b[2000D\u001b[KLoading ITKImageFunction... \u001b[2000D\u001b[KLoading ITKImageFunction... \u001b[2000D\u001b[K\u001b[2000D\u001b[KLoading ITKImageGrid... \u001b[2000D\u001b[KLoading ITKImageGrid... \u001b[2000D\u001b[K\u001b[2000D\u001b[KLoading ITKFFT... \u001b[2000D\u001b[KLoading ITKFFT... \u001b[2000D\u001b[K\u001b[2000D\u001b[KLoading Montage... \u001b[2000D\u001b[KLoading Montage... \u001b[2000D\u001b[K"
     ]
    },
    {
     "name": "stdout",
     "output_type": "stream",
     "text": [
      "<itkTemplate itk::TileConfiguration>\n",
      "Options:\n",
      "  [2,]\n",
      "  [3,]\n",
      "  [4,]\n"
     ]
    }
   ],
   "source": [
    "### Cu 003 processing ###\n",
    "\n",
    "\n",
    "#%% load the packages\n",
    "import numpy as np\n",
    "import matplotlib.pyplot as plt\n",
    "from matplotlib import gridspec\n",
    "\n",
    "import defdap.hrdic as hrdic\n",
    "import defdap.ebsd as ebsd\n",
    "import defdap.experiment as experiment\n",
    "from defdap.quat import Quat\n",
    "\n",
    "from pathlib import Path\n",
    "\n",
    "import copy \n",
    "import pandas as pd\n",
    "import datetime\n",
    "\n",
    "from scipy.signal import find_peaks\n",
    "from scipy.linalg import sqrtm, polar\n",
    "\n",
    "\n",
    "import os\n",
    "\n",
    "# get dictools stuff \n",
    "import sys\n",
    "sys.path.append(\"c:/work/hrdic-tools/\")\n",
    "import dictools\n",
    "\n",
    "plt.rcParams['svg.fonttype'] = 'none'\n",
    "\n",
    "%matplotlib qt"
   ]
  },
  {
   "cell_type": "code",
   "execution_count": 2,
   "metadata": {},
   "outputs": [
    {
     "name": "stdout",
     "output_type": "stream",
     "text": [
      "Loaded OpenPIV n/a data (dimensions: 1999 x 1999 pixels, sub-window size: 16 x 16 pixels)\n",
      "Loaded OpenPIV n/a data (dimensions: 1999 x 1999 pixels, sub-window size: 16 x 16 pixels)\n",
      "<defdap.hrdic.Map object at 0x000002ADCDB6E270>\n",
      "<defdap.hrdic.Map object at 0x000002ADC80AA960>\n"
     ]
    }
   ],
   "source": [
    "exp = experiment.Experiment()\n",
    "\n",
    "# load DIC data \n",
    "data_dir = Path('.')\n",
    "dic_frame = experiment.Frame()\n",
    "for dic_file in sorted(data_dir.glob('map_*.txt')):\n",
    "    hrdic.Map(dic_file, experiment=exp, frame=dic_frame,data_type='openpiv')\n",
    "\n",
    "hfw = 20.0 # microns\n",
    "pixelwidth = 2048\n",
    "pixelsize = hfw/pixelwidth\n",
    "\n",
    "for inc, dic_map in exp.iter_over_maps('hrdic'):\n",
    "    dic_map.set_scale(pixelsize)\n",
    "    dic_map.set_crop(left=100,right=100,top=100,bottom=100)\n",
    "    # dic_map.plot_map('max_shear',vmin=0,vmax=0.01,plot_scale_bar=True)\n",
    "    print(dic_map)"
   ]
  },
  {
   "cell_type": "code",
   "execution_count": 3,
   "metadata": {},
   "outputs": [
    {
     "name": "stdout",
     "output_type": "stream",
     "text": [
      "Loaded EBSD data (dimensions: 1825 x 1750 pixels, step size: 0.2 um)\n"
     ]
    },
    {
     "data": {
      "text/plain": [
       "<defdap.ebsd.Map at 0x2add9d61400>"
      ]
     },
     "execution_count": 3,
     "metadata": {},
     "output_type": "execute_result"
    }
   ],
   "source": [
    "ebsd_frame = experiment.Frame()\n",
    "ebsd.Map(data_dir / 'Post_EBSD/map_small.cpr',\n",
    "         increment=exp.increments[0], frame=ebsd_frame)"
   ]
  },
  {
   "cell_type": "code",
   "execution_count": 4,
   "metadata": {},
   "outputs": [],
   "source": [
    "ebsd_map = exp.increments[0].maps['ebsd']\n",
    "# ebsd_map.set_homog_point()\n",
    "\n",
    "dic_map = exp.increments[0].maps['hrdic']\n",
    "# dic_map.set_homog_point(vmin=0,vmax=0.1)"
   ]
  },
  {
   "cell_type": "code",
   "execution_count": 5,
   "metadata": {},
   "outputs": [],
   "source": [
    "ebsd_frame.homog_points = [(274, 381),\n",
    " (891, 265),\n",
    " (1613, 265),\n",
    " (958, 760),\n",
    " (1148, 1241),\n",
    " (1425, 1035),\n",
    " (378, 1109),\n",
    " (390, 1409),\n",
    " (1615, 1407),\n",
    " (889, 1245),\n",
    " (710, 635),\n",
    " (576, 558),\n",
    " (556, 696),\n",
    " (318, 703),\n",
    " (545, 499),\n",
    " (1216, 958),\n",
    " (1375, 752),\n",
    " (781, 976),\n",
    " (1303, 732),\n",
    " (1061, 746),\n",
    " (1514, 594),\n",
    " (1274, 510),\n",
    " (1435, 427),\n",
    " (1117, 664),\n",
    " (425, 1075),\n",
    " (631, 1400),\n",
    " (631, 1036),\n",
    " (769, 1126),\n",
    " (1152, 942),\n",
    " (1240, 1339),\n",
    " (1528, 1149),\n",
    " (1084, 1193)]\n",
    "\n",
    "\n",
    "dic_frame.homog_points = [(83, 363),\n",
    " (856, 170),\n",
    " (1759, 146),\n",
    " (949, 829),\n",
    " (1186, 1442),\n",
    " (1536, 1173),\n",
    " (233, 1304),\n",
    " (245, 1687),\n",
    " (1761, 1668),\n",
    " (868, 1444),\n",
    " (634, 672),\n",
    " (465, 576),\n",
    " (444, 757),\n",
    " (144, 785),\n",
    " (425, 495),\n",
    " (1273, 1087),\n",
    " (1470, 805),\n",
    " (727, 1117),\n",
    " (1382, 780),\n",
    " (1074, 814),\n",
    " (1643, 593),\n",
    " (1341, 480),\n",
    " (1543, 362),\n",
    " (1147, 700),\n",
    " (290, 1256),\n",
    " (548, 1663),\n",
    " (545, 1195),\n",
    " (719, 1310),\n",
    " (1194, 1069),\n",
    " (1303, 1594),\n",
    " (1654, 1333),\n",
    " (1109, 1382)]"
   ]
  },
  {
   "cell_type": "code",
   "execution_count": 6,
   "metadata": {},
   "outputs": [
    {
     "name": "stdout",
     "output_type": "stream",
     "text": [
      "Finished building quaternion array (0:00:16) \n",
      "Finished finding grain boundaries (0:00:49) \n"
     ]
    }
   ],
   "source": [
    "for inc, dic_map in exp.iter_over_maps('hrdic'):\n",
    "    dic_map.set_scale(pixelsize)\n",
    "    dic_map.link_ebsd_map(ebsd_map, transform_type=\"projective\")\n",
    "    \n",
    "\n",
    "\n",
    "\n",
    "    dic_map.plot_map(\n",
    "        'max_shear', vmin=0, vmax=0.10, \n",
    "        plot_scale_bar=False, plot_gbs='line'\n",
    "    )\n",
    "    plt.tight_layout()"
   ]
  },
  {
   "cell_type": "code",
   "execution_count": 7,
   "metadata": {},
   "outputs": [],
   "source": [
    "for inc, dic_map in exp.iter_over_maps('hrdic'):\n",
    "    dic_map.plot_map(\n",
    "        'r_ang'\n",
    "    )"
   ]
  },
  {
   "cell_type": "code",
   "execution_count": 9,
   "metadata": {},
   "outputs": [
    {
     "name": "stdout",
     "output_type": "stream",
     "text": [
      "Finished finding grains (0:00:07) twork..\n",
      "Finished constructing neighbour network (0:00:09) \n"
     ]
    }
   ],
   "source": [
    "# find special boundaries \n",
    "misori_twin = Quat.from_axis_angle([1, 1, 1], 60*np.pi/180)\n",
    "misori_twin_tol = 5*np.pi/180\n",
    "\n",
    "# create all symmetric equivalent misorientations\n",
    "misori_twin_all = []\n",
    "syms = ebsd_map.primary_phase.crystal_structure.symmetries\n",
    "for sym_i in syms:\n",
    "    for sym_j in syms:\n",
    "        misori_twin_all.append(sym_i.conjugate * misori_twin * sym_j)\n",
    "\n",
    "\n",
    "# get rid of any duplicates\n",
    "misori_twin_all = list(set(misori_twin_all))\n",
    "\n",
    "# calculate neighbour network\n",
    "ebsd_map.build_neighbour_network()\n",
    "\n",
    "# loop over all grain boundary segments and check if the misorientation between\n",
    "# the two grains is within tolerance of the twin misorientation\n",
    "twin_lines = []\n",
    "for grain1, grain2, b_seg in ebsd_map.neighbour_network.edges.data('boundary'):\n",
    "    twin = False\n",
    "\n",
    "    # calculate grain ref orientation\n",
    "    grain1.calc_average_ori()\n",
    "    grain2.calc_average_ori()\n",
    "\n",
    "    misori = grain2.ref_ori * grain1.ref_ori.conjugate\n",
    "    for misori_twin in misori_twin_all:\n",
    "        if 2 * np.arccos(misori_twin.dot(misori)) < misori_twin_tol:\n",
    "            twin = True\n",
    "            break\n",
    "    \n",
    "    if not twin:\n",
    "        continue\n",
    "    \n",
    "    twin_lines.append(b_seg)\n",
    "\n",
    "# make into boundary set\n",
    "s_bounds = ebsd.BoundarySet.from_boundary_segments(twin_lines)"
   ]
  },
  {
   "cell_type": "code",
   "execution_count": null,
   "metadata": {},
   "outputs": [],
   "source": [
    "plot = ebsd_map.plot_ipf_map([1,0,0],plot_gbs='line',dilate_boundaries=True)\n",
    "plot.add_grain_boundaries(kind='line',boundaries=s_bounds,colour='red',linewidths=10)\n"
   ]
  },
  {
   "cell_type": "code",
   "execution_count": null,
   "metadata": {},
   "outputs": [],
   "source": [
    "s_bounds_dic = hrdic.BoundarySet.from_ebsd_boundaries(dic_map,s_bounds)"
   ]
  },
  {
   "cell_type": "code",
   "execution_count": null,
   "metadata": {},
   "outputs": [],
   "source": [
    "plot = dic_map.plot_map('max_shear',vmin=0,vmax=0.1,plot_gbs='pixel',dilate_boundaries=True)\n",
    "plot.add_grain_boundaries(kind='pixel',boundaries=s_bounds_dic,dilate=True,color='limegreen',alpha=1)"
   ]
  },
  {
   "cell_type": "code",
   "execution_count": null,
   "metadata": {},
   "outputs": [],
   "source": [
    "dic_map.data.max_shear < np.percentile(dic_map.data.max_shear,95)"
   ]
  },
  {
   "cell_type": "code",
   "execution_count": null,
   "metadata": {},
   "outputs": [],
   "source": [
    "mask = dic_map.generate_threshold_mask(dic_map.data.max_shear < np.percentile(dic_map.data.max_shear,98))\n",
    "dic_map.apply_threshold_mask()"
   ]
  },
  {
   "cell_type": "code",
   "execution_count": null,
   "metadata": {},
   "outputs": [],
   "source": [
    "gb_im = skimage.morphology.dilation(s_bounds_dic.image,footprint=np.ones((3,3)))\n",
    "\n",
    "gb_im_to_plot = gb_im.astype(float)\n",
    "\n",
    "gb_im_to_plot[~gb_im] = np.nan\n",
    "\n",
    "plot = dic_map.plot_map()#,plot_gbs='pixel',dilate_boundaries=True)\n",
    "plot.add_map(gb_im_to_plot,alpha=0.5,cmap='Greens')"
   ]
  },
  {
   "cell_type": "code",
   "execution_count": null,
   "metadata": {},
   "outputs": [],
   "source": []
  },
  {
   "cell_type": "code",
   "execution_count": null,
   "metadata": {},
   "outputs": [],
   "source": []
  },
  {
   "cell_type": "code",
   "execution_count": null,
   "metadata": {},
   "outputs": [],
   "source": []
  },
  {
   "cell_type": "code",
   "execution_count": null,
   "metadata": {},
   "outputs": [],
   "source": [
    "# test with a single map to make things easier\n",
    "# exp = experiment.Experiment()\n",
    "\n",
    "dic_dir = Path('./DIC/')\n",
    "ebsd_pre_dir = Path('./Pre_EBSD/')\n",
    "ebsd_post_dir = Path('./Post_EBSD/')\n",
    "\n",
    "dic_frame = experiment.Frame()\n",
    "# for dic_file in sorted(dic_dir.glob('map_*.txt')):\n",
    "#     hrdic.Map(dic_file, experiment=exp, frame=dic_frame,data_type='openpiv')\n",
    "    \n",
    "dic_map = hrdic.Map(dic_dir/ 'map_44.txt', data_type='openpiv')\n",
    "\n",
    "hfw = 20.0 # microns\n",
    "pixelwidth = 2048\n",
    "pixelsize = hfw/pixelwidth\n",
    "\n",
    "\n",
    "# for inc, dic_map in exp.iter_over_maps('hrdic'):\n",
    "#     dic_map.set_scale(pixelsize)\n",
    "#     dic_map.set_crop(left=100,right=100,top=100,bottom=100)\n",
    "#     # dic_map.plot_map('max_shear',vmin=0,vmax=0.01,plot_scale_bar=True)\n",
    "#     print(dic_map)\n",
    "\n",
    "dic_map.set_scale(pixelsize)\n",
    "dic_map.set_crop(left=100,right=100,top=100,bottom=100)\n",
    "\n",
    "ebsd_pre_frame = experiment.Frame()\n",
    "ebsd_map=ebsd.Map(ebsd_pre_dir / 'map.cpr',increment=exp.increments[0], frame=ebsd_pre_frame)\n",
    "\n",
    "ebsd_map.find_grains()\n",
    "ebsd_map.build_neighbour_network()"
   ]
  },
  {
   "cell_type": "code",
   "execution_count": null,
   "metadata": {},
   "outputs": [],
   "source": [
    "# exp = experiment.Experiment()\n",
    "\n",
    "# dic_dir = Path('./DIC/')\n",
    "# ebsd_pre_dir = Path('./Pre_EBSD/')\n",
    "# ebsd_post_dir = Path('./Post_EBSD/')\n",
    "\n",
    "# dic_frame = experiment.Frame()\n",
    "# for dic_file in sorted(dic_dir.glob('map_*.txt')):\n",
    "#     hrdic.Map(dic_file, experiment=exp, frame=dic_frame,data_type='openpiv')\n",
    "    \n",
    "# hfw = 20.0 # microns\n",
    "# pixelwidth = 2048\n",
    "# pixelsize = hfw/pixelwidth\n",
    "\n",
    "# for inc, dic_map in exp.iter_over_maps('hrdic'):\n",
    "#     dic_map.set_scale(pixelsize)\n",
    "#     dic_map.set_crop(left=100,right=100,top=100,bottom=100)\n",
    "#     # dic_map.plot_map('max_shear',vmin=0,vmax=0.01,plot_scale_bar=True)\n",
    "#     print(dic_map)\n",
    "    \n",
    "# ebsd_pre_frame = experiment.Frame()\n",
    "# ebsd.Map(ebsd_pre_dir / 'map.cpr',increment=exp.increments[0], frame=ebsd_pre_frame)\n",
    "\n",
    "# ebsd_map = exp.increments[0].maps['ebsd']\n",
    "# ebsd_map.find_boundaries()\n",
    "# ebsd_map.find_grains\n",
    "# ebsd_map.build_neighbour_network()"
   ]
  },
  {
   "cell_type": "code",
   "execution_count": null,
   "metadata": {},
   "outputs": [],
   "source": [
    "# ebsd_post_frame = experiment.Frame()\n",
    "# ebsd.Map(ebsd_post_dir / 'map_small.cpr',increment=exp.increments[-1], frame=ebsd_post_frame)"
   ]
  },
  {
   "cell_type": "code",
   "execution_count": null,
   "metadata": {},
   "outputs": [],
   "source": [
    "exp.increments[1].maps['ebsd']"
   ]
  },
  {
   "cell_type": "code",
   "execution_count": null,
   "metadata": {},
   "outputs": [],
   "source": [
    "# dic_map = exp.increments[0].maps['hrdic']\n",
    "dic_map.set_homog_point(vmin=0,vmax=0.2)\n",
    "\n",
    "# ebsd_map = exp.increments[0].maps['ebsd']\n",
    "ebsd_map.set_homog_point()\n",
    "\n",
    "# dic_map.homog_points = [(1722, 1177),\n",
    "#  (1335, 1313),\n",
    "#  (948, 1745),\n",
    "#  (549, 1661),\n",
    "#  (245, 1680),\n",
    "#  (233, 1300),\n",
    "#  (579, 1158),\n",
    "#  (443, 756),\n",
    "#  (559, 136),\n",
    "#  (83, 359),\n",
    "#  (1438, 495),\n",
    "#  (857, 165)]\n",
    "\n",
    "# ebsd_map.homog_points = [(2541, 1823),\n",
    "#  (2240, 1932),\n",
    "#  (1940, 2266),\n",
    "#  (1631, 2207),\n",
    "#  (1394, 2225),\n",
    "#  (1388, 1933),\n",
    "#  (1659, 1820),\n",
    "#  (1554, 1519),\n",
    "#  (1648, 1054),\n",
    "#  (1279, 1219),\n",
    "#  (2323, 1319),\n",
    "#  (1875, 1080)]\n",
    "\n",
    "# dic_map.link_ebsd_map(ebsd_map, transform_type=\"polynomial\",order=2)\n",
    "# dic_map.plot_map('max_shear', vmin=0,vmax=0.1,plot_scale_bar=True,plot_gbs=True)\n",
    "#  # link maps\n",
    "# for inc, dic_map in exp.iter_over_maps('hrdic'):\n",
    "#     dic_map.set_crop\n",
    "#     dic_map.link_ebsd_map(ebsd_map, transform_type=\"polynomial\",order=2)\n",
    "#     # dic_map.plot_map(\n",
    "#     #     'max_shear', vmin=0, vmax=0.10, \n",
    "#     #     plot_scale_bar=False, plot_gbs='line'\n",
    "#     # )\n",
    "    # plt.tight_layout()"
   ]
  },
  {
   "cell_type": "code",
   "execution_count": null,
   "metadata": {},
   "outputs": [],
   "source": []
  },
  {
   "cell_type": "code",
   "execution_count": null,
   "metadata": {},
   "outputs": [],
   "source": [
    "# find twin boundaries\n",
    "misori_twin = Quat.from_axis_angle([1, 1, 1], 60*np.pi/180)\n",
    "misori_twin_tol = 5*np.pi/180\n",
    "\n",
    "# create all symmetric equivalent misorientations\n",
    "misori_twin_all = []\n",
    "syms = ebsd_map.primary_phase.crystal_structure.symmetries\n",
    "for sym_i in syms:\n",
    "    for sym_j in syms:\n",
    "        misori_twin_all.append(sym_i.conjugate * misori_twin * sym_j)\n",
    "# get rid of any duplicates\n",
    "misori_twin_all = list(set(misori_twin_all))\n",
    "\n",
    "# loop over all grain boundary segments and check if the misorientation between\n",
    "# the two grains is within tolerance of the twin misorientation\n",
    "twin_lines = []\n",
    "for grain1, grain2, b_seg in ebsd_map.neighbour_network.edges.data('boundary'):\n",
    "    twin = False\n",
    "    misori = grain2.ref_ori * grain1.ref_ori.conjugate\n",
    "    for misori_twin in misori_twin_all:\n",
    "        if 2 * np.arccos(misori_twin.dot(misori)) < misori_twin_tol:\n",
    "            twin = True\n",
    "            break\n",
    "    \n",
    "    if not twin:\n",
    "        continue\n",
    "    \n",
    "    twin_lines += b_seg.boundary_lines"
   ]
  },
  {
   "cell_type": "code",
   "execution_count": null,
   "metadata": {},
   "outputs": [],
   "source": [
    "ebsd_map.build_neighbour_network()"
   ]
  },
  {
   "cell_type": "code",
   "execution_count": null,
   "metadata": {},
   "outputs": [],
   "source": [
    "ebsd_map."
   ]
  },
  {
   "cell_type": "code",
   "execution_count": null,
   "metadata": {},
   "outputs": [],
   "source": []
  },
  {
   "cell_type": "code",
   "execution_count": null,
   "metadata": {},
   "outputs": [],
   "source": [
    "t = ebsd_map.neighbour_network.edges.data('boundary')"
   ]
  },
  {
   "cell_type": "code",
   "execution_count": null,
   "metadata": {},
   "outputs": [],
   "source": [
    "plot = ebsd_map.plot_ipf_map([1,0,0])\n",
    "plot.add_grain_boundaries(kind='line',boundaries=twin_lines, colour='red')"
   ]
  },
  {
   "cell_type": "code",
   "execution_count": null,
   "metadata": {},
   "outputs": [],
   "source": [
    " # plot maps\n",
    "for inc, dic_map in exp.iter_over_maps('hrdic'):\n",
    "    dic_map.set_crop\n",
    "    dic_map.link_ebsd_map(ebsd_map, transform_type=\"polynomial\",order=2)\n",
    "    # dic_map.plot_map(\n",
    "    #     'max_shear', vmin=0, vmax=0.10, \n",
    "    #     plot_scale_bar=False, plot_gbs='line'\n",
    "    # )\n",
    "    # plt.tight_layout()\n",
    "\n",
    "dic_map = exp.increments[-1].maps['hrdic'] \n",
    "dic_map.plot_map(\n",
    "    \n",
    ")"
   ]
  }
 ],
 "metadata": {
  "kernelspec": {
   "display_name": "openPIVbatch",
   "language": "python",
   "name": "python3"
  },
  "language_info": {
   "codemirror_mode": {
    "name": "ipython",
    "version": 3
   },
   "file_extension": ".py",
   "mimetype": "text/x-python",
   "name": "python",
   "nbconvert_exporter": "python",
   "pygments_lexer": "ipython3",
   "version": "3.12.0"
  }
 },
 "nbformat": 4,
 "nbformat_minor": 2
}
